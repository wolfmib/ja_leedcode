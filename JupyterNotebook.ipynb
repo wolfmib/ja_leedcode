{
 "cells": [
  {
   "cell_type": "markdown",
   "metadata": {},
   "source": [
    "## Python Example for alogorithm test 🦉\n",
    "---"
   ]
  },
  {
   "cell_type": "markdown",
   "metadata": {},
   "source": [
    "## Check the value is the same from map\n",
    "---\n",
    "- create empty list [] append each unique value ans check again\n",
    "- use sorted and join as well."
   ]
  },
  {
   "cell_type": "code",
   "execution_count": 19,
   "metadata": {},
   "outputs": [
    {
     "name": "stdout",
     "output_type": "stream",
     "text": [
      "['aet']\n",
      "['aet']\n",
      "['aet', 'aet']\n"
     ]
    }
   ],
   "source": [
    "group_map = []\n",
    "input_1 = \"ate\"\n",
    "input_2 = \"tae\"\n",
    "\n",
    "if input_1 not in my_map:\n",
    "    _tem_str = \"\"\n",
    "    my_map.append(_tem_str.join(sorted(input_1)))\n",
    "    print(my_map)\n",
    "\n",
    "if input_1 not in my_map:\n",
    "    print(my_map)\n",
    "    \n",
    "if input_2 not in my_map:\n",
    "    _tem_str = \"\"\n",
    "    my_map.append(_tem_str.join(sorted(input_2)))\n",
    "    print(my_map)\n",
    "\n",
    "\n"
   ]
  },
  {
   "cell_type": "code",
   "execution_count": 18,
   "metadata": {},
   "outputs": [
    {
     "data": {
      "text/plain": [
       "'aet'"
      ]
     },
     "execution_count": 18,
     "metadata": {},
     "output_type": "execute_result"
    }
   ],
   "source": [
    "my_str =\"\"\n",
    "my_str.join(sorted(input_1))"
   ]
  },
  {
   "cell_type": "code",
   "execution_count": 25,
   "metadata": {},
   "outputs": [],
   "source": [
    "unique_map = {\"ate\": 0}\n",
    "input_str = \"ate\"\n",
    "if input_str not in unique_map:\n",
    "    print(\"hi\")"
   ]
  },
  {
   "cell_type": "code",
   "execution_count": 26,
   "metadata": {},
   "outputs": [
    {
     "name": "stdout",
     "output_type": "stream",
     "text": [
      "{'key_1': ['eat']}\n",
      "{'key_1': ['eat', 'eat']}\n"
     ]
    }
   ],
   "source": [
    "my_map = {}\n",
    "my_map[\"key_1\"] = [\"eat\"]\n",
    "print(my_map)\n",
    "my_map[\"key_1\"] = my_map[\"key_1\"] + [\"eat\"]\n",
    "print(my_map)\n",
    "\n"
   ]
  },
  {
   "cell_type": "code",
   "execution_count": 29,
   "metadata": {},
   "outputs": [],
   "source": [
    "my_list_list = my_map.values()"
   ]
  },
  {
   "cell_type": "code",
   "execution_count": 30,
   "metadata": {},
   "outputs": [
    {
     "data": {
      "text/plain": [
       "dict_values([['eat', 'eat']])"
      ]
     },
     "execution_count": 30,
     "metadata": {},
     "output_type": "execute_result"
    }
   ],
   "source": [
    "my_list_list"
   ]
  },
  {
   "cell_type": "code",
   "execution_count": null,
   "metadata": {},
   "outputs": [],
   "source": []
  }
 ],
 "metadata": {
  "kernelspec": {
   "display_name": "Python 3",
   "language": "python",
   "name": "python3"
  },
  "language_info": {
   "codemirror_mode": {
    "name": "ipython",
    "version": 3
   },
   "file_extension": ".py",
   "mimetype": "text/x-python",
   "name": "python",
   "nbconvert_exporter": "python",
   "pygments_lexer": "ipython3",
   "version": "3.6.7"
  }
 },
 "nbformat": 4,
 "nbformat_minor": 2
}
